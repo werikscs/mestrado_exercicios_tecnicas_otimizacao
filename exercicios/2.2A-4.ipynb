{
 "cells": [
  {
   "cell_type": "code",
   "execution_count": 20,
   "id": "37baa919",
   "metadata": {},
   "outputs": [
    {
     "name": "stdout",
     "output_type": "stream",
     "text": [
      "Requirement already satisfied: docplex in /home/weriks/Desktop/saeg/tecnicas_de_otimizacao/leo/exercicios_cplex/.venv/lib/python3.10/site-packages (2.30.251)\n",
      "Requirement already satisfied: six in /home/weriks/Desktop/saeg/tecnicas_de_otimizacao/leo/exercicios_cplex/.venv/lib/python3.10/site-packages (from docplex) (1.17.0)\n",
      "Note: you may need to restart the kernel to use updated packages.\n"
     ]
    }
   ],
   "source": [
    "%pip install docplex"
   ]
  },
  {
   "cell_type": "code",
   "execution_count": 21,
   "id": "3ba0503c",
   "metadata": {},
   "outputs": [],
   "source": [
    "from docplex.mp.model import Model\n",
    "\n",
    "# Criação do modelo com um nome descritivo\n",
    "model = Model('Mix_Otimo_de_Producao')"
   ]
  },
  {
   "cell_type": "code",
   "execution_count": 22,
   "id": "c7b7c9c2",
   "metadata": {},
   "outputs": [],
   "source": [
    "# --- Parâmetros extraídos da Tabela A ---\n",
    "\n",
    "# Dados gerais\n",
    "nProdutos = 2\n",
    "nProcessos = 3\n",
    "\n",
    "# Lucro por unidade de cada produto\n",
    "lucro_por_unidade = {1: 2, 2: 3} #\n",
    "\n",
    "# Tempo (em minutos) que cada produto consome em cada processo\n",
    "tempo_processo_1 = {1: 10, 2: 5} #\n",
    "tempo_processo_2 = {1: 6, 2: 20} #\n",
    "tempo_processo_3 = {1: 8, 2: 10} #\n",
    "\n",
    "# Limite de capacidade diária em minutos\n",
    "# A empresa funciona 10 horas por dia => 10 * 60 = 600 minutos\n",
    "limite_tempo_minutos = 600 #"
   ]
  },
  {
   "cell_type": "code",
   "execution_count": 23,
   "id": "83366227",
   "metadata": {},
   "outputs": [
    {
     "data": {
      "text/plain": [
       "docplex.mp.LinearConstraint[](8Produto_1+10Produto_2,LE,600)"
      ]
     },
     "execution_count": 23,
     "metadata": {},
     "output_type": "execute_result"
    }
   ],
   "source": [
    "# 1. Variáveis de Decisão\n",
    "# Define as variáveis que o modelo precisa descobrir: a quantidade a produzir de cada produto.\n",
    "# Ex: Produto_1, Produto_2\n",
    "idx_produtos = range(1, nProdutos + 1)\n",
    "qtd_a_produzir = model.continuous_var_dict(idx_produtos, name='Produto')\n",
    "\n",
    "\n",
    "# 2. Função Objetivo\n",
    "# Define a meta: maximizar o lucro total.\n",
    "# Lucro Total = (Lucro P1 * Qtd P1) + (Lucro P2 * Qtd P2)\n",
    "lucro_total = model.sum(lucro_por_unidade[i] * qtd_a_produzir[i] for i in idx_produtos)\n",
    "model.maximize(lucro_total)\n",
    "\n",
    "\n",
    "# 3. Restrições\n",
    "# Define as regras/limites que a solução deve respeitar.\n",
    "\n",
    "# Restrição do Processo 1: O tempo total usado no Processo 1 não pode exceder 600 minutos.\n",
    "model.add_constraint(model.sum(tempo_processo_1[i] * qtd_a_produzir[i] for i in idx_produtos) <= limite_tempo_minutos)\n",
    "\n",
    "# Restrição do Processo 2: O tempo total usado no Processo 2 não pode exceder 600 minutos.\n",
    "model.add_constraint(model.sum(tempo_processo_2[i] * qtd_a_produzir[i] for i in idx_produtos) <= limite_tempo_minutos)\n",
    "\n",
    "# Restrição do Processo 3: O tempo total usado no Processo 3 não pode exceder 600 minutos.\n",
    "model.add_constraint(model.sum(tempo_processo_3[i] * qtd_a_produzir[i] for i in idx_produtos) <= limite_tempo_minutos)"
   ]
  },
  {
   "cell_type": "code",
   "execution_count": 26,
   "id": "64d15ac2",
   "metadata": {},
   "outputs": [
    {
     "name": "stdout",
     "output_type": "stream",
     "text": [
      "--- Resolvendo o modelo ---\n",
      "Version identifier: 22.1.2.0 | 2024-12-10 | f4cec290b\n",
      "CPXPARAM_Read_DataCheck                          1\n",
      "Using devex.\n",
      "\n",
      "------ SOLUÇÃO ÓTIMA ------\n",
      "\n",
      "solution for: Mix_Otimo_de_Producao\n",
      "objective: 148.235\n",
      "status: OPTIMAL_SOLUTION(2)\n",
      "Produto_1=52.941\n",
      "Produto_2=14.118\n",
      "\n"
     ]
    }
   ],
   "source": [
    "# Aciona o solver para encontrar a solução\n",
    "print(\"--- Resolvendo o modelo ---\")\n",
    "solucao = model.solve(log_output=True) # log_output=False para uma saída mais limpa\n",
    "\n",
    "print('\\n------ SOLUÇÃO ÓTIMA ------\\n')\n",
    "print(solucao)"
   ]
  }
 ],
 "metadata": {
  "kernelspec": {
   "display_name": ".venv",
   "language": "python",
   "name": "python3"
  },
  "language_info": {
   "codemirror_mode": {
    "name": "ipython",
    "version": 3
   },
   "file_extension": ".py",
   "mimetype": "text/x-python",
   "name": "python",
   "nbconvert_exporter": "python",
   "pygments_lexer": "ipython3",
   "version": "3.10.12"
  }
 },
 "nbformat": 4,
 "nbformat_minor": 5
}
